{
 "cells": [
  {
   "cell_type": "code",
   "execution_count": 5,
   "id": "3c301f48",
   "metadata": {},
   "outputs": [],
   "source": [
    "import pandas as pd"
   ]
  },
  {
   "cell_type": "code",
   "execution_count": 6,
   "id": "bcbf98d5",
   "metadata": {},
   "outputs": [
    {
     "name": "stderr",
     "output_type": "stream",
     "text": [
      "/home/jedbites/.local/lib/python3.10/site-packages/openpyxl/styles/stylesheet.py:226: UserWarning: Workbook contains no default style, apply openpyxl's default\n",
      "  warn(\"Workbook contains no default style, apply openpyxl's default\")\n"
     ]
    }
   ],
   "source": [
    "# read the files\n",
    "hubspot_file = pd.read_excel('all_hubspot.xlsx')\n",
    "linkedin_file = pd.read_csv('linkedin_connections.csv')"
   ]
  },
  {
   "cell_type": "code",
   "execution_count": 8,
   "id": "09af5b14",
   "metadata": {},
   "outputs": [
    {
     "name": "stdout",
     "output_type": "stream",
     "text": [
      "     Record ID First Name    Last Name  LinkedIn # LinkedIn Connections With\n",
      "0     26172221      Brett        Gough    76883030           Simon Conington\n",
      "1     26007421    Richard     Breckell   101707041           Simon Conington\n",
      "2     25915071       Paul      Mallett    15945624           Simon Conington\n",
      "3     25905821      Steve      Heffron    15170750           Simon Conington\n",
      "4     25897071       Nick  Fitzpatrick   133507849           Simon Conington\n",
      "..         ...        ...          ...         ...                       ...\n",
      "515    8579671     Deepak    Brahmavar   145477766           Simon Conington\n",
      "516    8203684      Biren   Zaverchand     8642625           Simon Conington\n",
      "517    4778321       Neil      Bennett    38761699           Simon Conington\n",
      "518   15981971    Antonio        Lopez    94096397           Simon Conington\n",
      "519    2443021       Nick     Philpott   264836470           Simon Conington\n",
      "\n",
      "[520 rows x 5 columns]\n"
     ]
    }
   ],
   "source": [
    "# merging the two files based on linkedin profile id and retain the record id for updates\n",
    "merged = pd.merge(hubspot_file, linkedin_file, on=\"LinkedIn #\", how=\"inner\")\n",
    "print(merged)"
   ]
  },
  {
   "cell_type": "code",
   "execution_count": 10,
   "id": "87fb1780",
   "metadata": {},
   "outputs": [],
   "source": [
    "merged.to_excel('merged_finish_linkedin_connections.xlsx')"
   ]
  },
  {
   "cell_type": "code",
   "execution_count": null,
   "id": "d552f066",
   "metadata": {},
   "outputs": [],
   "source": []
  }
 ],
 "metadata": {
  "kernelspec": {
   "display_name": "Python 3 (ipykernel)",
   "language": "python",
   "name": "python3"
  },
  "language_info": {
   "codemirror_mode": {
    "name": "ipython",
    "version": 3
   },
   "file_extension": ".py",
   "mimetype": "text/x-python",
   "name": "python",
   "nbconvert_exporter": "python",
   "pygments_lexer": "ipython3",
   "version": "3.10.12"
  }
 },
 "nbformat": 4,
 "nbformat_minor": 5
}
